{
 "cells": [
  {
   "cell_type": "code",
   "execution_count": 14,
   "metadata": {},
   "outputs": [],
   "source": [
    "import sqlite3\n",
    "import numpy as np\n",
    "from sklearn.model_selection import train_test_split\n",
    "from sklearn.linear_model import LinearRegression\n",
    "from sklearn.metrics import mean_squared_error\n",
    "from sklearn.neural_network import MLPRegressor\n",
    "import matplotlib.pyplot as plt\n",
    "import scikitplot as skplt\n",
    "from sklearn import tree\n",
    "\n",
    "\n"
   ]
  },
  {
   "cell_type": "code",
   "execution_count": 15,
   "metadata": {},
   "outputs": [],
   "source": [
    "connection = sqlite3.connect(\"myTable.db\") \n",
    "crsr = connection.cursor()\n",
    "sql_command = \"\"\"SELECT * FROM musuem;\"\"\"\n",
    "crsr.execute(sql_command)\n",
    "myresult = crsr.fetchall()\n",
    "x = []\n",
    "y = []\n",
    "for row in myresult:\n",
    "    x.append(row[4])\n",
    "    y.append(row[2])\n",
    "x = np.asarray(x)\n",
    "y = np.asarray(y)"
   ]
  },
  {
   "cell_type": "markdown",
   "metadata": {},
   "source": [
    "Split the data into train, valid, test data"
   ]
  },
  {
   "cell_type": "code",
   "execution_count": 16,
   "metadata": {},
   "outputs": [
    {
     "name": "stdout",
     "output_type": "stream",
     "text": [
      "1270.1781377049183\n",
      "355.2321852459017\n",
      "550455.3924586902\n"
     ]
    }
   ],
   "source": [
    "x = x/10000\n",
    "y = y/10000\n",
    "print(x.mean())\n",
    "print(y.mean())\n",
    "print(x.var())\n"
   ]
  },
  {
   "cell_type": "code",
   "execution_count": null,
   "metadata": {},
   "outputs": [],
   "source": []
  },
  {
   "cell_type": "code",
   "execution_count": 17,
   "metadata": {},
   "outputs": [],
   "source": [
    "\n",
    "X_train, X_test, y_train, y_test = train_test_split(x, y, test_size=0.2, random_state=1)\n",
    "X_train, X_val, y_train, y_val = train_test_split(X_train, y_train, test_size=0.25, random_state=1)"
   ]
  },
  {
   "cell_type": "code",
   "execution_count": 21,
   "metadata": {},
   "outputs": [
    {
     "name": "stdout",
     "output_type": "stream",
     "text": [
      "31920.93377714522\n"
     ]
    },
    {
     "data": {
      "image/png": "[encoded data removed]",
      "text/plain": [
       "<Figure size 432x288 with 1 Axes>"
      ]
     },
     "metadata": {
      "needs_background": "light"
     },
     "output_type": "display_data"
    },
    {
     "name": "stdout",
     "output_type": "stream",
     "text": [
      "19559.942259028187\n",
      "13563.26141714199\n"
     ]
    },
    {
     "data": {
      "image/png": "[encoded data removed]",
      "text/plain": [
       "<Figure size 432x288 with 1 Axes>"
      ]
     },
     "metadata": {
      "needs_background": "light"
     },
     "output_type": "display_data"
    },
    {
     "name": "stdout",
     "output_type": "stream",
     "text": [
      "40990.2706012137\n"
     ]
    }
   ],
   "source": [
    "clf = LinearRegression()\n",
    "#clf = MLPRegressor(random_state=0, activation='logistic', hidden_layer_sizes=16)\n",
    "#clf = tree.DecisionTreeRegressor()\n",
    "clf.fit(X_train.reshape(-1,1), y_train)\n",
    "prediction = clf.predict(X_train.reshape(-1,1))\n",
    "print(mean_squared_error(y_train, prediction))\n",
    "\n",
    "fig, ax = plt.subplots()\n",
    "ax.scatter(X_train, y_train, edgecolors=(0, 0, 0))\n",
    "\n",
    "xmin = min(X_train)\n",
    "xmax = max(X_train)\n",
    "#print(X_train)\n",
    "\n",
    "xx = np.arange(xmin,xmax, 100)\n",
    "yy = clf.predict(xx.reshape(-1,1))\n",
    "ax.plot(xx,yy)\n",
    "plt.show()\n",
    "\n",
    "prediction = clf.predict(X_val.reshape(-1,1))\n",
    "print(mean_squared_error(y_val, prediction))\n",
    "\n",
    "\n",
    "#clf = LinearRegression()\n",
    "#clf = MLPRegressor(random_state=0, activation='logistic', hidden_layer_sizes=16)\n",
    "clf = tree.DecisionTreeRegressor()\n",
    "clf.fit(X_train.reshape(-1,1), y_train)\n",
    "prediction = clf.predict(X_train.reshape(-1,1))\n",
    "print(mean_squared_error(y_train, prediction))\n",
    "\n",
    "fig, ax = plt.subplots()\n",
    "ax.scatter(X_train, y_train, edgecolors=(0, 0, 0))\n",
    "\n",
    "xmin = min(X_train)\n",
    "xmax = max(X_train)\n",
    "#print(X_train)\n",
    "\n",
    "xx = np.arange(xmin,xmax, 100)\n",
    "yy = clf.predict(xx.reshape(-1,1))\n",
    "ax.plot(xx,yy)\n",
    "plt.show()\n",
    "\n",
    "prediction = clf.predict(X_val.reshape(-1,1))\n",
    "print(mean_squared_error(y_val, prediction))\n"
   ]
  },
  {
   "cell_type": "code",
   "execution_count": null,
   "metadata": {},
   "outputs": [],
   "source": []
  },
  {
   "cell_type": "code",
   "execution_count": null,
   "metadata": {},
   "outputs": [],
   "source": []
  }
 ],
 "metadata": {
  "kernelspec": {
   "display_name": "ivado",
   "language": "python",
   "name": "ivado"
  },
  "language_info": {
   "codemirror_mode": {
    "name": "ipython",
    "version": 3
   },
   "file_extension": ".py",
   "mimetype": "text/x-python",
   "name": "python",
   "nbconvert_exporter": "python",
   "pygments_lexer": "ipython3",
   "version": "3.6.9"
  }
 },
 "nbformat": 4,
 "nbformat_minor": 2
}
