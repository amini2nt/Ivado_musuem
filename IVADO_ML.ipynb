{
 "cells": [
  {
   "cell_type": "code",
   "execution_count": 1,
   "metadata": {},
   "outputs": [],
   "source": [
    "import sqlite3\n",
    "import numpy as np\n",
    "from sklearn.model_selection import train_test_split\n",
    "from sklearn.linear_model import LinearRegression\n",
    "from sklearn.metrics import mean_squared_error\n",
    "from sklearn.neural_network import MLPRegressor\n",
    "import matplotlib.pyplot as plt\n",
    "import scikitplot as skplt\n",
    "from sklearn import tree\n",
    "from sklearn.preprocessing import RobustScaler "
   ]
  },
  {
   "cell_type": "code",
   "execution_count": 2,
   "metadata": {},
   "outputs": [],
   "source": [
    "connection = sqlite3.connect(\"museum_list.db\") \n",
    "crsr = connection.cursor()\n",
    "sql_command = \"\"\"SELECT * FROM museum;\"\"\"\n",
    "crsr.execute(sql_command)\n",
    "myresult = crsr.fetchall()\n",
    "x = []\n",
    "y = []\n",
    "for row in myresult:\n",
    "    x.append(row[4])\n",
    "    y.append(row[2])\n",
    "x = np.asarray(x).reshape(-1,1)\n",
    "y = np.asarray(y)"
   ]
  },
  {
   "cell_type": "markdown",
   "metadata": {},
   "source": [
    "## Data Stats"
   ]
  },
  {
   "cell_type": "code",
   "execution_count": 3,
   "metadata": {},
   "outputs": [
    {
     "name": "stdout",
     "output_type": "stream",
     "text": [
      "Mean of input:  12701781.37704918\n",
      "Mean of output:  3552321.8524590163\n",
      "Variance of input:  55045539245869.02\n"
     ]
    }
   ],
   "source": [
    "print(\"Mean of input: \", x.mean())\n",
    "print(\"Mean of output: \", y.mean())\n",
    "print(\"Variance of input: \", x.var())\n"
   ]
  },
  {
   "cell_type": "markdown",
   "metadata": {},
   "source": [
    "# Plot the Box plot to see the distribution and show the outliers"
   ]
  },
  {
   "cell_type": "code",
   "execution_count": 4,
   "metadata": {},
   "outputs": [
    {
     "data": {
      "text/plain": [
       "{'whiskers': [<matplotlib.lines.Line2D at 0x120d18d30>,\n",
       "  <matplotlib.lines.Line2D at 0x120d370b8>],\n",
       " 'caps': [<matplotlib.lines.Line2D at 0x120d37400>,\n",
       "  <matplotlib.lines.Line2D at 0x120d37748>],\n",
       " 'boxes': [<matplotlib.lines.Line2D at 0x120d18940>],\n",
       " 'medians': [<matplotlib.lines.Line2D at 0x120d37a90>],\n",
       " 'fliers': [<matplotlib.lines.Line2D at 0x120d37dd8>],\n",
       " 'means': []}"
      ]
     },
     "execution_count": 4,
     "metadata": {},
     "output_type": "execute_result"
    },
    {
     "data": {
      "image/png": "[encoded data removed]",
      "text/plain": [
       "<Figure size 432x288 with 1 Axes>"
      ]
     },
     "metadata": {
      "needs_background": "light"
     },
     "output_type": "display_data"
    }
   ],
   "source": [
    "green_diamond = dict(markerfacecolor='g', marker='D')\n",
    "fig3, ax3 = plt.subplots()\n",
    "ax3.set_title('Changed Outlier Symbols')\n",
    "ax3.boxplot(x, flierprops=green_diamond)"
   ]
  },
  {
   "cell_type": "markdown",
   "metadata": {},
   "source": [
    "# Scale the data"
   ]
  },
  {
   "cell_type": "code",
   "execution_count": 5,
   "metadata": {},
   "outputs": [],
   "source": [
    "transformer = RobustScaler().fit(x)\n",
    "transformed_x = transformer.transform(x)"
   ]
  },
  {
   "cell_type": "code",
   "execution_count": 6,
   "metadata": {},
   "outputs": [],
   "source": [
    "\n",
    "X_train, X_test, y_train, y_test = train_test_split(x, y, test_size=0.2, random_state=1)\n",
    "X_train, X_val, y_train, y_val = train_test_split(X_train, y_train, test_size=0.25, random_state=1)\n",
    "\n",
    "transformed_X_train, transformed_X_test, y_train, y_test = train_test_split(transformed_x, y, test_size=0.2, random_state=1)\n",
    "transformed_X_train, transformed_X_val, y_train, y_val = train_test_split(transformed_X_train, y_train, test_size=0.25, random_state=1)"
   ]
  },
  {
   "cell_type": "markdown",
   "metadata": {},
   "source": [
    "## Linear Regression"
   ]
  },
  {
   "cell_type": "code",
   "execution_count": null,
   "metadata": {},
   "outputs": [],
   "source": [
    "xmin = min(X_train)\n",
    "xmax = max(X_train)\n",
    "xx = np.arange(xmin,xmax, 100).reshape(-1,1)\n",
    "fig, ax = plt.subplots()\n",
    "ax.scatter(X_train, y_train, edgecolors=(0, 0, 0))\n",
    "\n",
    "#using x as feature\n",
    "lin_reg_linear = LinearRegression()\n",
    "\n",
    "lin_reg_linear.fit(X_train, y_train)\n",
    "prediction_linear_train = lin_reg_linear.predict(X_train)\n",
    "prediction_linear_valid = lin_reg_linear.predict(X_val)\n",
    "\n",
    "print(\"Mean Squared error of training data when feature x is used: \", mean_squared_error(y_train, prediction_linear_train))\n",
    "print(\"Mean squared error of validation data when feature x is used: \", mean_squared_error(y_val, prediction_linear_valid))\n",
    "\n",
    "yy_linear = lin_reg_linear.predict(xx)\n",
    "\n",
    "#using x^2 as feature\n",
    "lin_reg_poly = LinearRegression()\n",
    "\n",
    "lin_reg_poly.fit(X_train**2, y_train)\n",
    "prediction_poly_train = lin_reg_poly.predict(X_train)\n",
    "prediction_poly_valid = lin_reg_poly.predict(X_val)\n",
    "\n",
    "print(\"Mean Squared error of training data when feature x^2 is used: \", mean_squared_error(y_train, prediction_poly_train))\n",
    "print(\"Mean squared error of validation data when feature x^2 is used: \", mean_squared_error(y_val, prediction_poly_valid))\n",
    "\n",
    "yy_poly = lin_reg_poly.predict(xx)\n",
    "\n",
    "#using x^3 as feature\n",
    "lin_reg_cube = LinearRegression()\n",
    "\n",
    "lin_reg_cube.fit(X_train**3, y_train)\n",
    "prediction_cube_train = lin_reg_cube.predict(X_train)\n",
    "prediction_cube_valid = lin_reg_cube.predict(X_val)\n",
    "\n",
    "print(\"Mean Squared error of training data when feature x^3 is used: \", mean_squared_error(y_train, prediction_cube_train))\n",
    "print(\"Mean squared error of validation data when feature x^3 is used: \", mean_squared_error(y_val, prediction_cube_valid))\n",
    "\n",
    "yy_cube = lin_reg_cube.predict(xx)\n",
    "\n",
    "\n",
    "#using sqrt x as feature\n",
    "lin_reg_sqrt = LinearRegression()\n",
    "\n",
    "lin_reg_sqrt.fit(np.sqrt(X_train), y_train)\n",
    "prediction_sqrt_train = lin_reg_sqrt.predict(X_train)\n",
    "prediction_sqrt_valid = lin_reg_sqrt.predict(X_val)\n",
    "\n",
    "print(\"Mean Squared error of training data when feature sqrt(x) is used: \", mean_squared_error(y_train, prediction_sqrt_train))\n",
    "print(\"Mean squared error of validation data when feature sqrt(x) is used: \", mean_squared_error(y_val, prediction_sqrt_valid))\n",
    "\n",
    "yy_sqrt = lin_reg_sqrt.predict(xx)\n",
    "\n",
    "\n",
    "\n",
    "ax.plot(xx,yy_linear)\n",
    "ax.plot(xx,yy_poly)\n",
    "ax.plot(xx,yy_cube)\n",
    "ax.plot(xx,yy_sqrt)\n",
    "\n",
    "\n",
    "ax.legend(['trained with x', 'trained with x^2', 'trained with x^3', 'trained with sqrt(x)'])\n",
    "\n",
    "\n",
    "plt.title(\"Linear Regression\")\n",
    "plt.xlabel(\"Population of City\")\n",
    "plt.ylabel(\"Number of Visitors\")\n",
    "plt.show()\n",
    "\n",
    "\n"
   ]
  },
  {
   "cell_type": "code",
   "execution_count": 7,
   "metadata": {},
   "outputs": [
    {
     "name": "stdout",
     "output_type": "stream",
     "text": [
      "Mean Squared error of training data when feature x is used:  3192093377714.5225\n",
      "Mean squared error of validation data when feature x is used:  1955994225902.8186\n"
     ]
    },
    {
     "name": "stderr",
     "output_type": "stream",
     "text": [
      "/anaconda3/envs/ivado/lib/python3.6/site-packages/IPython/core/pylabtools.py:128: UserWarning: Creating legend with loc=\"best\" can be slow with large amounts of data.\n",
      "  fig.canvas.print_figure(bytes_io, **kw)\n"
     ]
    },
    {
     "data": {
      "image/png": "[encoded data removed]",
      "text/plain": [
       "<Figure size 432x288 with 1 Axes>"
      ]
     },
     "metadata": {
      "needs_background": "light"
     },
     "output_type": "display_data"
    }
   ],
   "source": [
    "xmin = min(X_train)\n",
    "xmax = max(X_train)\n",
    "xx = np.arange(xmin,xmax, 100).reshape(-1,1)\n",
    "fig, ax = plt.subplots()\n",
    "ax.scatter(X_train, y_train, edgecolors=(0, 0, 0))\n",
    "#using x as feature\n",
    "lin_reg_linear = LinearRegression()\n",
    "\n",
    "lin_reg_linear.fit(transformed_X_train, y_train)\n",
    "prediction_linear_train = lin_reg_linear.predict(transformed_X_train)\n",
    "prediction_linear_valid = lin_reg_linear.predict(transformed_X_val) ## not sure if this needs to be transformed validation data\n",
    "\n",
    "print(\"Mean Squared error of training data when feature x is used: \", mean_squared_error(y_train, prediction_linear_train))\n",
    "print(\"Mean squared error of validation data when feature x is used: \", mean_squared_error(y_val, prediction_linear_valid))\n",
    "\n",
    "yy_linear = lin_reg_linear.predict(xx)\n",
    "'''\n",
    "#using x^2 as feature\n",
    "lin_reg_poly = LinearRegression()\n",
    "\n",
    "lin_reg_poly.fit(X_train**2, y_train)\n",
    "prediction_poly_train = lin_reg_poly.predict(X_train)\n",
    "prediction_poly_valid = lin_reg_poly.predict(X_val)\n",
    "\n",
    "print(\"Mean Squared error of training data when feature x^2 is used: \", mean_squared_error(y_train, prediction_poly_train))\n",
    "print(\"Mean squared error of validation data when feature x^2 is used: \", mean_squared_error(y_val, prediction_poly_valid))\n",
    "\n",
    "yy_poly = lin_reg_poly.predict(xx)\n",
    "\n",
    "#using x^3 as feature\n",
    "lin_reg_cube = LinearRegression()\n",
    "\n",
    "lin_reg_cube.fit(X_train**3, y_train)\n",
    "prediction_cube_train = lin_reg_cube.predict(X_train)\n",
    "prediction_cube_valid = lin_reg_cube.predict(X_val)\n",
    "\n",
    "print(\"Mean Squared error of training data when feature x^3 is used: \", mean_squared_error(y_train, prediction_cube_train))\n",
    "print(\"Mean squared error of validation data when feature x^3 is used: \", mean_squared_error(y_val, prediction_cube_valid))\n",
    "\n",
    "yy_cube = lin_reg_cube.predict(xx)\n",
    "\n",
    "\n",
    "#using sqrt x as feature\n",
    "lin_reg_sqrt = LinearRegression()\n",
    "\n",
    "lin_reg_sqrt.fit(np.sqrt(X_train), y_train)\n",
    "prediction_sqrt_train = lin_reg_sqrt.predict(X_train)\n",
    "prediction_sqrt_valid = lin_reg_sqrt.predict(X_val)\n",
    "\n",
    "print(\"Mean Squared error of training data when feature sqrt(x) is used: \", mean_squared_error(y_train, prediction_sqrt_train))\n",
    "print(\"Mean squared error of validation data when feature sqrt(x) is used: \", mean_squared_error(y_val, prediction_sqrt_valid))\n",
    "\n",
    "yy_sqrt = lin_reg_sqrt.predict(xx)\n",
    "\n",
    "\n",
    "\n",
    "ax.plot(xx,yy_linear)\n",
    "ax.plot(xx,yy_poly)\n",
    "ax.plot(xx,yy_cube)\n",
    "ax.plot(xx,yy_sqrt)\n",
    "\n",
    "'''\n",
    "ax.plot(xx, yy_linear)\n",
    "\n",
    "ax.legend(['trained with x', 'trained with x^2', 'trained with x^3', 'trained with sqrt(x)'])\n",
    "\n",
    "\n",
    "plt.title(\"Linear Regression\")\n",
    "plt.xlabel(\"Population of City\")\n",
    "plt.ylabel(\"Number of Visitors\")\n",
    "plt.show()\n",
    "\n",
    "\n"
   ]
  },
  {
   "cell_type": "markdown",
   "metadata": {},
   "source": [
    "Since the error is high, we will try forming new features such as $\\sqrt{x}, (x)^2, (x)^3$, to be used by Linear Regression. "
   ]
  },
  {
   "cell_type": "markdown",
   "metadata": {},
   "source": [
    "## Decision Tree"
   ]
  },
  {
   "cell_type": "code",
   "execution_count": null,
   "metadata": {},
   "outputs": [],
   "source": [
    "decision_tree = tree.DecisionTreeRegressor()\n",
    "decision_tree.fit(X_train, y_train)\n",
    "prediction_train = decision_tree.predict(X_train)\n",
    "print(\"The mean squared error(train) is: \", mean_squared_error(y_train, prediction_train))\n",
    "prediction_valid = decision_tree.predict(X_val)\n",
    "print(\"The mean squared error(validation) is: \", mean_squared_error(y_val, prediction_valid))\n",
    "fig, ax = plt.subplots()\n",
    "ax.scatter(X_train, y_train, edgecolors=(0, 0, 0))\n",
    "\n",
    "yy = decision_tree.predict(xx)\n",
    "ax.plot(xx,yy)\n",
    "plt.title(\"Decision Tree\")\n",
    "plt.xlabel(\"Population of City\")\n",
    "plt.ylabel(\"Number of Visitors\")\n",
    "plt.show()\n",
    "\n"
   ]
  },
  {
   "cell_type": "code",
   "execution_count": null,
   "metadata": {},
   "outputs": [],
   "source": []
  }
 ],
 "metadata": {
  "kernelspec": {
   "display_name": "ivado",
   "language": "python",
   "name": "ivado"
  },
  "language_info": {
   "codemirror_mode": {
    "name": "ipython",
    "version": 3
   },
   "file_extension": ".py",
   "mimetype": "text/x-python",
   "name": "python",
   "nbconvert_exporter": "python",
   "pygments_lexer": "ipython3",
   "version": "3.6.9"
  }
 },
 "nbformat": 4,
 "nbformat_minor": 2
}
